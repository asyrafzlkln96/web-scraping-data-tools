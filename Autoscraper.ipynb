{
  "nbformat": 4,
  "nbformat_minor": 0,
  "metadata": {
    "colab": {
      "name": "Autoscraper.ipynb",
      "provenance": [],
      "collapsed_sections": []
    },
    "kernelspec": {
      "name": "python3",
      "display_name": "Python 3"
    },
    "language_info": {
      "name": "python"
    }
  },
  "cells": [
    {
      "cell_type": "markdown",
      "metadata": {
        "id": "FNpyisRjXQEu"
      },
      "source": [
        "# Simple Autoscraper for Scraping Web Data"
      ]
    },
    {
      "cell_type": "code",
      "metadata": {
        "colab": {
          "base_uri": "https://localhost:8080/"
        },
        "id": "8hDr5eHJU6ZF",
        "outputId": "114a7ec5-832b-4b17-818f-cea34789f3cf"
      },
      "source": [
        "!pip install autoscraper"
      ],
      "execution_count": 1,
      "outputs": [
        {
          "output_type": "stream",
          "name": "stdout",
          "text": [
            "Collecting autoscraper\n",
            "  Downloading autoscraper-1.1.12-py3-none-any.whl (10 kB)\n",
            "Requirement already satisfied: bs4 in /usr/local/lib/python3.7/dist-packages (from autoscraper) (0.0.1)\n",
            "Requirement already satisfied: requests in /usr/local/lib/python3.7/dist-packages (from autoscraper) (2.23.0)\n",
            "Requirement already satisfied: lxml in /usr/local/lib/python3.7/dist-packages (from autoscraper) (4.2.6)\n",
            "Requirement already satisfied: beautifulsoup4 in /usr/local/lib/python3.7/dist-packages (from bs4->autoscraper) (4.6.3)\n",
            "Requirement already satisfied: idna<3,>=2.5 in /usr/local/lib/python3.7/dist-packages (from requests->autoscraper) (2.10)\n",
            "Requirement already satisfied: chardet<4,>=3.0.2 in /usr/local/lib/python3.7/dist-packages (from requests->autoscraper) (3.0.4)\n",
            "Requirement already satisfied: certifi>=2017.4.17 in /usr/local/lib/python3.7/dist-packages (from requests->autoscraper) (2021.10.8)\n",
            "Requirement already satisfied: urllib3!=1.25.0,!=1.25.1,<1.26,>=1.21.1 in /usr/local/lib/python3.7/dist-packages (from requests->autoscraper) (1.24.3)\n",
            "Installing collected packages: autoscraper\n",
            "Successfully installed autoscraper-1.1.12\n"
          ]
        }
      ]
    },
    {
      "cell_type": "code",
      "metadata": {
        "colab": {
          "base_uri": "https://localhost:8080/"
        },
        "id": "dAaNFRLlU9hn",
        "outputId": "9f65216a-ec0f-4f9d-ba5d-122d7026acaf"
      },
      "source": [
        "from autoscraper import AutoScraper\n",
        "\n",
        "url = 'https://www.jobstreet.com.my/en/companies/441257-tm-research-n-development/reviews'\n",
        "wanted_list = ['I have a good supervisor that support me do the work']\n",
        "\n",
        "scraper = AutoScraper()\n",
        "result = scraper.build(url, wanted_list)\n",
        "print(result)"
      ],
      "execution_count": 6,
      "outputs": [
        {
          "output_type": "stream",
          "name": "stdout",
          "text": [
            "['I have a good supervisor that support me do the work', 'Excellent working place.', 'TM ELIT Trainee is an apprenticeship program for 8 months. I am assigned in HR People & Culture unit and I am responsible in creating Career Portal for TM RND using Wordpress and updating codings using HTML, PHP, Javascript, Bootstrap codes and a few plugins available. I am involving in Research & Development of the team. I am also responsible in doing research about ClickUp application to ensure that all of the team has a clear view of its usage before going into deeper understanding of the ClickUp.', 'Excellent place for fresh grad', 'Best Working Enviroment Ever', 'Nice company with nice colleagues', 'Great working environment for muslim', 'Metro Ethernet Network', 'Great experience', 'Great at communication skills and customers services.']\n"
          ]
        }
      ]
    },
    {
      "cell_type": "code",
      "metadata": {
        "colab": {
          "base_uri": "https://localhost:8080/"
        },
        "id": "NJYcWdAoVuAW",
        "outputId": "fc72cf2d-0e5c-4eea-a7fe-ccf808a5de2b"
      },
      "source": [
        "import pandas as pd\n",
        "\n",
        "df = pd.DataFrame(result, columns =['content']) \n",
        "print(df)"
      ],
      "execution_count": 9,
      "outputs": [
        {
          "output_type": "stream",
          "name": "stdout",
          "text": [
            "                                             content\n",
            "0  I have a good supervisor that support me do th...\n",
            "1                           Excellent working place.\n",
            "2  TM ELIT Trainee is an apprenticeship program f...\n",
            "3                     Excellent place for fresh grad\n",
            "4                       Best Working Enviroment Ever\n",
            "5                  Nice company with nice colleagues\n",
            "6               Great working environment for muslim\n",
            "7                             Metro Ethernet Network\n",
            "8                                   Great experience\n",
            "9  Great at communication skills and customers se...\n"
          ]
        }
      ]
    },
    {
      "cell_type": "code",
      "metadata": {
        "id": "wnYHRnrGW43L"
      },
      "source": [
        "df.to_csv(\"job_review.csv\")"
      ],
      "execution_count": 10,
      "outputs": []
    },
    {
      "cell_type": "code",
      "metadata": {
        "id": "4-ZZwzF8XK6x"
      },
      "source": [
        ""
      ],
      "execution_count": null,
      "outputs": []
    }
  ]
}